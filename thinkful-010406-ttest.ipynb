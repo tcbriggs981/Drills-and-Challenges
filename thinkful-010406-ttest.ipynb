{
 "cells": [
  {
   "cell_type": "markdown",
   "metadata": {},
   "source": [
    "$$t = \\frac{\\bar{y_1}-\\bar{y_2}}{\\sqrt{s^2_1/N_1+s^2_2/N_2}}$$\n",
    "\n",
    "\n",
    "1. $\\bar{y_1}= 5$, $\\bar{y_2}= 8$, $s_1= 1$, $s_2= 3$, $N_1= 200$, $N_2= 500$\n",
    "2. $\\bar{y_1}= 1090$, $\\bar{y_2}= 999$, $s_1= 400$, $s_2= 30$, $N_1= 900$, $N_2= 100$\n",
    "3. $\\bar{y_1}= 45$, $\\bar{y_2}= 40$, $s_1= 45$, $s_2= 40$, $N_1= 2000$, $N_2= 2000$"
   ]
  },
  {
   "cell_type": "code",
   "execution_count": 5,
   "metadata": {},
   "outputs": [
    {
     "name": "stdout",
     "output_type": "stream",
     "text": [
      "-19.78141420187361\n"
     ]
    }
   ],
   "source": [
    "import math\n",
    "\n",
    "t1 = (5-8)/math.sqrt((1**2/200)+(3**2/500))\n",
    "\n",
    "print(t1)"
   ]
  },
  {
   "cell_type": "code",
   "execution_count": 7,
   "metadata": {},
   "outputs": [
    {
     "name": "stdout",
     "output_type": "stream",
     "text": [
      "6.658536585365854\n"
     ]
    }
   ],
   "source": [
    "t2 = (1090-999)/math.sqrt((400**2/900)+(30**2/100))\n",
    "\n",
    "print(t2)"
   ]
  },
  {
   "cell_type": "code",
   "execution_count": 8,
   "metadata": {},
   "outputs": [
    {
     "name": "stdout",
     "output_type": "stream",
     "text": [
      "3.7139067635410377\n"
     ]
    }
   ],
   "source": [
    "t3 = (45-40)/math.sqrt((45**2/2000)+(40**2/2000))\n",
    "\n",
    "print(t3)"
   ]
  }
 ],
 "metadata": {
  "kernelspec": {
   "display_name": "Python 3",
   "language": "python",
   "name": "python3"
  },
  "language_info": {
   "codemirror_mode": {
    "name": "ipython",
    "version": 3
   },
   "file_extension": ".py",
   "mimetype": "text/x-python",
   "name": "python",
   "nbconvert_exporter": "python",
   "pygments_lexer": "ipython3",
   "version": "3.7.0"
  }
 },
 "nbformat": 4,
 "nbformat_minor": 2
}
