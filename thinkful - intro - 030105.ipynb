{
 "cells": [
  {
   "cell_type": "code",
   "execution_count": 8,
   "metadata": {},
   "outputs": [],
   "source": [
    "import pandas as pd\n",
    "import numpy as np\n",
    "import statistics"
   ]
  },
  {
   "cell_type": "code",
   "execution_count": 16,
   "metadata": {
    "scrolled": true
   },
   "outputs": [
    {
     "name": "stdout",
     "output_type": "stream",
     "text": [
      "Mean: 9.857142857142858\n",
      "Median: 10\n",
      "Mode: 8\n"
     ]
    }
   ],
   "source": [
    "print('Mean:',(14+12+11+10+8+6+8) / 7)\n",
    "print('Median:', 10)\n",
    "print('Mode:', 8)"
   ]
  },
  {
   "cell_type": "code",
   "execution_count": 14,
   "metadata": {},
   "outputs": [
    {
     "name": "stdout",
     "output_type": "stream",
     "text": [
      "Mean: 9.857142857142858\n",
      "Median: 10.0\n",
      "Variance: 7.476190476190475\n",
      "Standard Deviation 2.734262327610589\n",
      "Standard Error 1.0334540197243192\n"
     ]
    }
   ],
   "source": [
    "df = pd.DataFrame()\n",
    "df['age'] = [14,12,11,10,8,6,8]\n",
    "\n",
    "print('Mean:', df['age'].mean())\n",
    "print('Median:', np.median(df['age']))\n",
    "print('Variance:', df.age.var())\n",
    "print('Standard Deviation', np.std(df['age'], ddof=1))\n",
    "print('Standard Error', np.std(df['age'] ,ddof=1) / np.sqrt(len(df['age'])))"
   ]
  },
  {
   "cell_type": "markdown",
   "metadata": {},
   "source": [
    "__Using these estimates, if you had to choose only one estimate of central tendency and one estimate of variance to describe the data, which would you pick and why?__\n",
    "\n",
    "I would pick the median and the standard deviation. The median because in such a small sample size the mean doesn't accurately represent the middle age and the standard deviation because it gives a good idea of the range of ages."
   ]
  },
  {
   "cell_type": "code",
   "execution_count": 17,
   "metadata": {},
   "outputs": [
    {
     "name": "stdout",
     "output_type": "stream",
     "text": [
      "Mean: 10.0\n",
      "Median: 10.0\n",
      "Variance: 6.333333333333333\n",
      "Standard Deviation 2.516611478423583\n",
      "Standard Error 0.9511897312113418\n"
     ]
    }
   ],
   "source": [
    "df = pd.DataFrame()\n",
    "df['age'] = [14,12,11,10,8,7,8]\n",
    "\n",
    "print('Mean:', df['age'].mean())\n",
    "print('Median:', np.median(df['age']))\n",
    "print('Variance:', df.age.var())\n",
    "print('Standard Deviation', np.std(df['age'], ddof=1))\n",
    "print('Standard Error', np.std(df['age'] ,ddof=1) / np.sqrt(len(df['age'])))"
   ]
  },
  {
   "cell_type": "code",
   "execution_count": 18,
   "metadata": {},
   "outputs": [
    {
     "name": "stdout",
     "output_type": "stream",
     "text": [
      "Mean: 9.0\n",
      "Median: 10.0\n",
      "Variance: 18.0\n",
      "Standard Deviation 4.242640687119285\n",
      "Standard Error 1.6035674514745462\n"
     ]
    }
   ],
   "source": [
    "df = pd.DataFrame()\n",
    "df['age'] = [14,12,11,10,8,7,1]\n",
    "\n",
    "print('Mean:', df['age'].mean())\n",
    "print('Median:', np.median(df['age']))\n",
    "print('Variance:', df.age.var())\n",
    "print('Standard Deviation', np.std(df['age'], ddof=1))\n",
    "print('Standard Error', np.std(df['age'] ,ddof=1) / np.sqrt(len(df['age'])))"
   ]
  },
  {
   "cell_type": "markdown",
   "metadata": {},
   "source": [
    "__On the 50th anniversary of The Brady Bunch, four different magazines asked their readers whether they were fans of the show. The answers were: TV Guide 20% fans Entertainment Weekly 23% fans Pop Culture Today 17% fans SciPhi Phanatic 5% fans. Based on these numbers, what percentage of adult Americans would you estimate were Brady Bunch fans on the 50th anniversary of the show?__\n",
    "\n",
    "Based on these number you can estimate that about 17% – 20% of of Adult Americans were Brady Bunch Fans"
   ]
  },
  {
   "cell_type": "code",
   "execution_count": null,
   "metadata": {},
   "outputs": [],
   "source": []
  }
 ],
 "metadata": {
  "kernelspec": {
   "display_name": "Python 3",
   "language": "python",
   "name": "python3"
  },
  "language_info": {
   "codemirror_mode": {
    "name": "ipython",
    "version": 3
   },
   "file_extension": ".py",
   "mimetype": "text/x-python",
   "name": "python",
   "nbconvert_exporter": "python",
   "pygments_lexer": "ipython3",
   "version": "3.7.0"
  }
 },
 "nbformat": 4,
 "nbformat_minor": 2
}
