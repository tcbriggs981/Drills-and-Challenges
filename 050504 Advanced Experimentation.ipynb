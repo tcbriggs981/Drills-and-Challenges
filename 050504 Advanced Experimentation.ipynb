{
 "cells": [
  {
   "cell_type": "code",
   "execution_count": 7,
   "metadata": {},
   "outputs": [],
   "source": [
    "import pandas as pd\n",
    "import numpy as np\n",
    "import matplotlib.pyplot as plt\n",
    "import scipy.stats as stats\n",
    "import seaborn as sns\n",
    "%matplotlib inline"
   ]
  },
  {
   "cell_type": "code",
   "execution_count": 4,
   "metadata": {},
   "outputs": [
    {
     "data": {
      "text/html": [
       "<div>\n",
       "<style scoped>\n",
       "    .dataframe tbody tr th:only-of-type {\n",
       "        vertical-align: middle;\n",
       "    }\n",
       "\n",
       "    .dataframe tbody tr th {\n",
       "        vertical-align: top;\n",
       "    }\n",
       "\n",
       "    .dataframe thead th {\n",
       "        text-align: right;\n",
       "    }\n",
       "</style>\n",
       "<table border=\"1\" class=\"dataframe\">\n",
       "  <thead>\n",
       "    <tr style=\"text-align: right;\">\n",
       "      <th></th>\n",
       "      <th>cntry</th>\n",
       "      <th>idno</th>\n",
       "      <th>year</th>\n",
       "      <th>tvtot</th>\n",
       "      <th>ppltrst</th>\n",
       "      <th>pplfair</th>\n",
       "      <th>pplhlp</th>\n",
       "      <th>happy</th>\n",
       "      <th>sclmeet</th>\n",
       "      <th>sclact</th>\n",
       "      <th>gndr</th>\n",
       "      <th>agea</th>\n",
       "      <th>partner</th>\n",
       "    </tr>\n",
       "  </thead>\n",
       "  <tbody>\n",
       "    <tr>\n",
       "      <th>0</th>\n",
       "      <td>CH</td>\n",
       "      <td>5.0</td>\n",
       "      <td>6</td>\n",
       "      <td>3.0</td>\n",
       "      <td>3.0</td>\n",
       "      <td>10.0</td>\n",
       "      <td>5.0</td>\n",
       "      <td>8.0</td>\n",
       "      <td>5.0</td>\n",
       "      <td>4.0</td>\n",
       "      <td>2.0</td>\n",
       "      <td>60.0</td>\n",
       "      <td>1.0</td>\n",
       "    </tr>\n",
       "    <tr>\n",
       "      <th>1</th>\n",
       "      <td>CH</td>\n",
       "      <td>25.0</td>\n",
       "      <td>6</td>\n",
       "      <td>6.0</td>\n",
       "      <td>5.0</td>\n",
       "      <td>7.0</td>\n",
       "      <td>5.0</td>\n",
       "      <td>9.0</td>\n",
       "      <td>3.0</td>\n",
       "      <td>2.0</td>\n",
       "      <td>2.0</td>\n",
       "      <td>59.0</td>\n",
       "      <td>1.0</td>\n",
       "    </tr>\n",
       "    <tr>\n",
       "      <th>2</th>\n",
       "      <td>CH</td>\n",
       "      <td>26.0</td>\n",
       "      <td>6</td>\n",
       "      <td>1.0</td>\n",
       "      <td>8.0</td>\n",
       "      <td>8.0</td>\n",
       "      <td>8.0</td>\n",
       "      <td>7.0</td>\n",
       "      <td>6.0</td>\n",
       "      <td>3.0</td>\n",
       "      <td>1.0</td>\n",
       "      <td>24.0</td>\n",
       "      <td>2.0</td>\n",
       "    </tr>\n",
       "    <tr>\n",
       "      <th>3</th>\n",
       "      <td>CH</td>\n",
       "      <td>28.0</td>\n",
       "      <td>6</td>\n",
       "      <td>4.0</td>\n",
       "      <td>6.0</td>\n",
       "      <td>6.0</td>\n",
       "      <td>7.0</td>\n",
       "      <td>10.0</td>\n",
       "      <td>6.0</td>\n",
       "      <td>2.0</td>\n",
       "      <td>2.0</td>\n",
       "      <td>64.0</td>\n",
       "      <td>1.0</td>\n",
       "    </tr>\n",
       "    <tr>\n",
       "      <th>4</th>\n",
       "      <td>CH</td>\n",
       "      <td>29.0</td>\n",
       "      <td>6</td>\n",
       "      <td>5.0</td>\n",
       "      <td>6.0</td>\n",
       "      <td>7.0</td>\n",
       "      <td>5.0</td>\n",
       "      <td>8.0</td>\n",
       "      <td>7.0</td>\n",
       "      <td>2.0</td>\n",
       "      <td>2.0</td>\n",
       "      <td>55.0</td>\n",
       "      <td>1.0</td>\n",
       "    </tr>\n",
       "  </tbody>\n",
       "</table>\n",
       "</div>"
      ],
      "text/plain": [
       "  cntry  idno  year  tvtot  ppltrst  pplfair  pplhlp  happy  sclmeet  sclact  \\\n",
       "0    CH   5.0     6    3.0      3.0     10.0     5.0    8.0      5.0     4.0   \n",
       "1    CH  25.0     6    6.0      5.0      7.0     5.0    9.0      3.0     2.0   \n",
       "2    CH  26.0     6    1.0      8.0      8.0     8.0    7.0      6.0     3.0   \n",
       "3    CH  28.0     6    4.0      6.0      6.0     7.0   10.0      6.0     2.0   \n",
       "4    CH  29.0     6    5.0      6.0      7.0     5.0    8.0      7.0     2.0   \n",
       "\n",
       "   gndr  agea  partner  \n",
       "0   2.0  60.0      1.0  \n",
       "1   2.0  59.0      1.0  \n",
       "2   1.0  24.0      2.0  \n",
       "3   2.0  64.0      1.0  \n",
       "4   2.0  55.0      1.0  "
      ]
     },
     "execution_count": 4,
     "metadata": {},
     "output_type": "execute_result"
    }
   ],
   "source": [
    "df = pd.read_csv('ESSdata_Thinkful.csv')\n",
    "\n",
    "df.head()"
   ]
  },
  {
   "cell_type": "code",
   "execution_count": 9,
   "metadata": {},
   "outputs": [
    {
     "data": {
      "text/html": [
       "<div>\n",
       "<style scoped>\n",
       "    .dataframe tbody tr th:only-of-type {\n",
       "        vertical-align: middle;\n",
       "    }\n",
       "\n",
       "    .dataframe tbody tr th {\n",
       "        vertical-align: top;\n",
       "    }\n",
       "\n",
       "    .dataframe thead th {\n",
       "        text-align: right;\n",
       "    }\n",
       "</style>\n",
       "<table border=\"1\" class=\"dataframe\">\n",
       "  <thead>\n",
       "    <tr style=\"text-align: right;\">\n",
       "      <th></th>\n",
       "      <th>idno</th>\n",
       "      <th>year</th>\n",
       "      <th>tvtot</th>\n",
       "      <th>ppltrst</th>\n",
       "      <th>pplfair</th>\n",
       "      <th>pplhlp</th>\n",
       "      <th>happy</th>\n",
       "      <th>sclmeet</th>\n",
       "      <th>sclact</th>\n",
       "      <th>gndr</th>\n",
       "      <th>agea</th>\n",
       "      <th>partner</th>\n",
       "    </tr>\n",
       "  </thead>\n",
       "  <tbody>\n",
       "    <tr>\n",
       "      <th>count</th>\n",
       "      <td>8.594000e+03</td>\n",
       "      <td>8594.000000</td>\n",
       "      <td>8586.000000</td>\n",
       "      <td>8580.000000</td>\n",
       "      <td>8555.000000</td>\n",
       "      <td>8569.000000</td>\n",
       "      <td>8563.000000</td>\n",
       "      <td>8579.000000</td>\n",
       "      <td>8500.000000</td>\n",
       "      <td>8584.000000</td>\n",
       "      <td>8355.000000</td>\n",
       "      <td>8577.000000</td>\n",
       "    </tr>\n",
       "    <tr>\n",
       "      <th>mean</th>\n",
       "      <td>3.954938e+04</td>\n",
       "      <td>6.500000</td>\n",
       "      <td>3.861985</td>\n",
       "      <td>5.559907</td>\n",
       "      <td>6.005143</td>\n",
       "      <td>5.319874</td>\n",
       "      <td>7.694616</td>\n",
       "      <td>5.192563</td>\n",
       "      <td>2.748941</td>\n",
       "      <td>1.497204</td>\n",
       "      <td>47.470736</td>\n",
       "      <td>1.384867</td>\n",
       "    </tr>\n",
       "    <tr>\n",
       "      <th>std</th>\n",
       "      <td>6.267259e+05</td>\n",
       "      <td>0.500029</td>\n",
       "      <td>2.019689</td>\n",
       "      <td>2.233700</td>\n",
       "      <td>2.129866</td>\n",
       "      <td>2.173449</td>\n",
       "      <td>1.735904</td>\n",
       "      <td>1.457643</td>\n",
       "      <td>0.905477</td>\n",
       "      <td>0.500021</td>\n",
       "      <td>18.397369</td>\n",
       "      <td>0.486592</td>\n",
       "    </tr>\n",
       "    <tr>\n",
       "      <th>min</th>\n",
       "      <td>1.000000e+00</td>\n",
       "      <td>6.000000</td>\n",
       "      <td>0.000000</td>\n",
       "      <td>0.000000</td>\n",
       "      <td>0.000000</td>\n",
       "      <td>0.000000</td>\n",
       "      <td>0.000000</td>\n",
       "      <td>1.000000</td>\n",
       "      <td>1.000000</td>\n",
       "      <td>1.000000</td>\n",
       "      <td>15.000000</td>\n",
       "      <td>1.000000</td>\n",
       "    </tr>\n",
       "    <tr>\n",
       "      <th>25%</th>\n",
       "      <td>1.052000e+03</td>\n",
       "      <td>6.000000</td>\n",
       "      <td>2.000000</td>\n",
       "      <td>4.000000</td>\n",
       "      <td>5.000000</td>\n",
       "      <td>4.000000</td>\n",
       "      <td>7.000000</td>\n",
       "      <td>4.000000</td>\n",
       "      <td>2.000000</td>\n",
       "      <td>1.000000</td>\n",
       "      <td>33.000000</td>\n",
       "      <td>1.000000</td>\n",
       "    </tr>\n",
       "    <tr>\n",
       "      <th>50%</th>\n",
       "      <td>1.714000e+03</td>\n",
       "      <td>6.500000</td>\n",
       "      <td>4.000000</td>\n",
       "      <td>6.000000</td>\n",
       "      <td>6.000000</td>\n",
       "      <td>5.000000</td>\n",
       "      <td>8.000000</td>\n",
       "      <td>6.000000</td>\n",
       "      <td>3.000000</td>\n",
       "      <td>1.000000</td>\n",
       "      <td>47.000000</td>\n",
       "      <td>1.000000</td>\n",
       "    </tr>\n",
       "    <tr>\n",
       "      <th>75%</th>\n",
       "      <td>2.745000e+03</td>\n",
       "      <td>7.000000</td>\n",
       "      <td>5.000000</td>\n",
       "      <td>7.000000</td>\n",
       "      <td>8.000000</td>\n",
       "      <td>7.000000</td>\n",
       "      <td>9.000000</td>\n",
       "      <td>6.000000</td>\n",
       "      <td>3.000000</td>\n",
       "      <td>2.000000</td>\n",
       "      <td>62.000000</td>\n",
       "      <td>2.000000</td>\n",
       "    </tr>\n",
       "    <tr>\n",
       "      <th>max</th>\n",
       "      <td>1.100143e+07</td>\n",
       "      <td>7.000000</td>\n",
       "      <td>7.000000</td>\n",
       "      <td>10.000000</td>\n",
       "      <td>10.000000</td>\n",
       "      <td>10.000000</td>\n",
       "      <td>10.000000</td>\n",
       "      <td>7.000000</td>\n",
       "      <td>5.000000</td>\n",
       "      <td>2.000000</td>\n",
       "      <td>114.000000</td>\n",
       "      <td>2.000000</td>\n",
       "    </tr>\n",
       "  </tbody>\n",
       "</table>\n",
       "</div>"
      ],
      "text/plain": [
       "               idno         year        tvtot      ppltrst      pplfair  \\\n",
       "count  8.594000e+03  8594.000000  8586.000000  8580.000000  8555.000000   \n",
       "mean   3.954938e+04     6.500000     3.861985     5.559907     6.005143   \n",
       "std    6.267259e+05     0.500029     2.019689     2.233700     2.129866   \n",
       "min    1.000000e+00     6.000000     0.000000     0.000000     0.000000   \n",
       "25%    1.052000e+03     6.000000     2.000000     4.000000     5.000000   \n",
       "50%    1.714000e+03     6.500000     4.000000     6.000000     6.000000   \n",
       "75%    2.745000e+03     7.000000     5.000000     7.000000     8.000000   \n",
       "max    1.100143e+07     7.000000     7.000000    10.000000    10.000000   \n",
       "\n",
       "            pplhlp        happy      sclmeet       sclact         gndr  \\\n",
       "count  8569.000000  8563.000000  8579.000000  8500.000000  8584.000000   \n",
       "mean      5.319874     7.694616     5.192563     2.748941     1.497204   \n",
       "std       2.173449     1.735904     1.457643     0.905477     0.500021   \n",
       "min       0.000000     0.000000     1.000000     1.000000     1.000000   \n",
       "25%       4.000000     7.000000     4.000000     2.000000     1.000000   \n",
       "50%       5.000000     8.000000     6.000000     3.000000     1.000000   \n",
       "75%       7.000000     9.000000     6.000000     3.000000     2.000000   \n",
       "max      10.000000    10.000000     7.000000     5.000000     2.000000   \n",
       "\n",
       "              agea      partner  \n",
       "count  8355.000000  8577.000000  \n",
       "mean     47.470736     1.384867  \n",
       "std      18.397369     0.486592  \n",
       "min      15.000000     1.000000  \n",
       "25%      33.000000     1.000000  \n",
       "50%      47.000000     1.000000  \n",
       "75%      62.000000     2.000000  \n",
       "max     114.000000     2.000000  "
      ]
     },
     "execution_count": 9,
     "metadata": {},
     "output_type": "execute_result"
    }
   ],
   "source": [
    "df.describe()"
   ]
  },
  {
   "cell_type": "code",
   "execution_count": 10,
   "metadata": {},
   "outputs": [],
   "source": [
    "df = df.dropna()"
   ]
  },
  {
   "cell_type": "markdown",
   "metadata": {},
   "source": [
    "#### Separate out the countries"
   ]
  },
  {
   "cell_type": "code",
   "execution_count": 11,
   "metadata": {},
   "outputs": [],
   "source": [
    "# Creating a few dataframes with the data separated by country:\n",
    "\n",
    "spain = df.loc[df['cntry'] == 'ES']\n",
    "sweden = df.loc[df['cntry'] == 'SE']\n",
    "swiss = df.loc[df['cntry'] == 'CH']\n",
    "norway = df.loc[df['cntry'] == 'NO']\n",
    "czech = df.loc[df['cntry'] == 'CZ']\n",
    "denmark = df.loc[df['cntry'] == 'DE']"
   ]
  },
  {
   "cell_type": "code",
   "execution_count": 25,
   "metadata": {},
   "outputs": [],
   "source": [
    "countries = [spain, sweden, swiss, norway, czech, denmark]"
   ]
  },
  {
   "cell_type": "markdown",
   "metadata": {},
   "source": [
    "#### Did people become less trusting from 2012 to 2014? Compute results for each country in the sample."
   ]
  },
  {
   "cell_type": "code",
   "execution_count": 12,
   "metadata": {},
   "outputs": [
    {
     "data": {
      "image/png": "[encoded data removed]",
      "text/plain": [
       "<Figure size 864x360 with 2 Axes>"
      ]
     },
     "metadata": {
      "needs_background": "light"
     },
     "output_type": "display_data"
    }
   ],
   "source": [
    "# Looking at the distribution visually:\n",
    "\n",
    "fig, (ax1, ax2) = plt.subplots(1, 2, figsize = (12, 5))\n",
    "\n",
    "ax1.hist(df.loc[df['year'] == 6, 'ppltrst'])\n",
    "\n",
    "ax2 = sns.kdeplot(df.loc[df['year'] == 6, 'ppltrst'])\n",
    "\n",
    "plt.show()"
   ]
  },
  {
   "cell_type": "code",
   "execution_count": 20,
   "metadata": {},
   "outputs": [],
   "source": [
    "trust_2012 = df.loc[df['year'] == 6, 'ppltrst']\n",
    "trust_2014 = df.loc[df['year'] == 7, 'ppltrst'][:4071]"
   ]
  },
  {
   "cell_type": "code",
   "execution_count": 16,
   "metadata": {},
   "outputs": [
    {
     "data": {
      "text/plain": [
       "(4071,)"
      ]
     },
     "execution_count": 16,
     "metadata": {},
     "output_type": "execute_result"
    }
   ],
   "source": [
    "trust_2012.shape"
   ]
  },
  {
   "cell_type": "code",
   "execution_count": 21,
   "metadata": {},
   "outputs": [
    {
     "data": {
      "text/plain": [
       "(4071,)"
      ]
     },
     "execution_count": 21,
     "metadata": {},
     "output_type": "execute_result"
    }
   ],
   "source": [
    "trust_2014.shape"
   ]
  },
  {
   "cell_type": "code",
   "execution_count": 23,
   "metadata": {},
   "outputs": [
    {
     "data": {
      "text/plain": [
       "Ttest_relResult(statistic=0.15797212748857214, pvalue=0.8744865987427111)"
      ]
     },
     "execution_count": 23,
     "metadata": {},
     "output_type": "execute_result"
    }
   ],
   "source": [
    "from scipy.stats import ttest_rel\n",
    "\n",
    "ttest_rel(trust_2012, \n",
    "          trust_2014,\n",
    "          axis = 0)"
   ]
  },
  {
   "cell_type": "code",
   "execution_count": 29,
   "metadata": {},
   "outputs": [
    {
     "name": "stdout",
     "output_type": "stream",
     "text": [
      "(1158,)\n",
      "(1134,)\n"
     ]
    }
   ],
   "source": [
    "print(spain.loc[spain['year'] == 6, 'ppltrst'].shape )\n",
    "print(spain.loc[spain['year'] == 7, 'ppltrst'].shape)"
   ]
  },
  {
   "cell_type": "code",
   "execution_count": 31,
   "metadata": {},
   "outputs": [
    {
     "name": "stdout",
     "output_type": "stream",
     "text": [
      "(859,)\n",
      "(867,)\n"
     ]
    }
   ],
   "source": [
    "print(sweden.loc[sweden['year'] == 6, 'ppltrst'].shape )\n",
    "print(sweden.loc[sweden['year'] == 7, 'ppltrst'].shape)"
   ]
  },
  {
   "cell_type": "code",
   "execution_count": 35,
   "metadata": {},
   "outputs": [
    {
     "name": "stdout",
     "output_type": "stream",
     "text": [
      "Spain:\n",
      "Ttest_relResult(statistic=2.1512250255992353, pvalue=0.03166935799305661)\n",
      "\n",
      "Sweden:\n",
      "Ttest_relResult(statistic=-2.074422015535839, pvalue=0.0383378027404032)\n"
     ]
    }
   ],
   "source": [
    "print('Spain:')\n",
    "print(ttest_rel(spain.loc[spain['year'] == 6, 'ppltrst'][:1134], \n",
    "          spain.loc[spain['year'] == 7, 'ppltrst'],\n",
    "          axis = 0))\n",
    "\n",
    "print('\\nSweden:')\n",
    "print(ttest_rel(sweden.loc[sweden['year'] == 6, 'ppltrst'], \n",
    "                sweden.loc[sweden['year'] == 7, 'ppltrst'][:859],\n",
    "                axis = 0))"
   ]
  },
  {
   "cell_type": "markdown",
   "metadata": {},
   "source": [
    "#### Question 2 - Did people become happier from 2012 to 2014?"
   ]
  },
  {
   "cell_type": "code",
   "execution_count": 36,
   "metadata": {},
   "outputs": [],
   "source": [
    "# This takes care of rare instances where an id was only found in one of the years:\n",
    "\n",
    "def double_id_issue(df):\n",
    "    \n",
    "    beta = df['idno'].value_counts()\n",
    "    delta = beta.loc[beta == 1]\n",
    "            \n",
    "    ids = list()\n",
    "\n",
    "    for x in delta.index:\n",
    "        ids.append(x)\n",
    "\n",
    "    for x in ids:\n",
    "        gamma = df.loc[df['idno'] == x].index\n",
    "        df.drop(index = gamma, axis = 0, inplace = True)"
   ]
  },
  {
   "cell_type": "code",
   "execution_count": 39,
   "metadata": {},
   "outputs": [],
   "source": [
    "# Taking care of the double-ids:\n",
    "\n",
    "for country in countries:\n",
    "     country = double_id_issue(country)"
   ]
  },
  {
   "cell_type": "code",
   "execution_count": 44,
   "metadata": {},
   "outputs": [
    {
     "data": {
      "image/png": "[encoded data removed]",
      "text/plain": [
       "<Figure size 864x864 with 6 Axes>"
      ]
     },
     "metadata": {
      "needs_background": "light"
     },
     "output_type": "display_data"
    }
   ],
   "source": [
    "# Looking at the distributions visually:\n",
    "\n",
    "fig, ((ax1, ax2), (ax3, ax4), (ax5, ax6)) = plt.subplots(3, 2, figsize = (12, 12))\n",
    "\n",
    "ax1.hist(swiss.loc[swiss['year'] == 6, 'happy'])\n",
    "ax1.set_title('Switzerland 2012')\n",
    "ax2.hist(swiss.loc[swiss['year'] == 7, 'happy'])\n",
    "ax2.set_title('Switzerland 2014')\n",
    "\n",
    "ax3.hist(czech.loc[czech['year'] == 6, 'happy'])\n",
    "ax3.set_title('Czechoslovakia 2012')\n",
    "ax4.hist(czech.loc[czech['year'] == 7, 'happy'])\n",
    "ax4.set_title('Czechoslovakia 2014')\n",
    "\n",
    "ax5.hist(spain.loc[spain['year'] == 6, 'happy'])\n",
    "ax5.set_title('Spain 2012')\n",
    "ax6.hist(spain.loc[spain['year'] == 7, 'happy'])\n",
    "ax6.set_title('Spain 2014')\n",
    "\n",
    "plt.show()"
   ]
  },
  {
   "cell_type": "code",
   "execution_count": 42,
   "metadata": {},
   "outputs": [
    {
     "data": {
      "image/png": "[encoded data removed]",
      "text/plain": [
       "<Figure size 864x576 with 4 Axes>"
      ]
     },
     "metadata": {
      "needs_background": "light"
     },
     "output_type": "display_data"
    }
   ],
   "source": [
    "fig, ((ax1, ax2), (ax3, ax4)) = plt.subplots(2, 2, figsize = (12, 8))\n",
    "\n",
    "ax1.hist(norway.loc[norway['year'] == 6, 'happy'])\n",
    "ax1.set_title('Norway 2012')\n",
    "ax2.hist(norway.loc[norway['year'] == 7, 'happy'])\n",
    "ax2.set_title('Norway 2014')\n",
    "\n",
    "ax3.hist(sweden.loc[sweden['year'] == 6, 'happy'])\n",
    "ax3.set_title('Sweden 2012')\n",
    "ax4.hist(sweden.loc[sweden['year'] == 7, 'happy'])\n",
    "ax4.set_title('Sweden 2014')\n",
    "\n",
    "plt.show()"
   ]
  },
  {
   "cell_type": "code",
   "execution_count": 60,
   "metadata": {},
   "outputs": [],
   "source": [
    "# Make a function for this\n",
    "\n",
    "def ttests(countries, col):\n",
    "    \n",
    "    for x in countries:\n",
    "        x = x.reset_index(drop=True)\n",
    "        print(x['cntry'][0] +':')\n",
    "        print(ttest_rel(x.loc[x['year'] == 6, col], \n",
    "                        x.loc[x['year'] == 7, col],\n",
    "                        axis = 0))"
   ]
  },
  {
   "cell_type": "code",
   "execution_count": 61,
   "metadata": {},
   "outputs": [
    {
     "name": "stdout",
     "output_type": "stream",
     "text": [
      "ES:\n",
      "Ttest_relResult(statistic=1.1536991743704812, pvalue=0.24887782739414913)\n",
      "SE:\n",
      "Ttest_relResult(statistic=-0.6384492287141238, pvalue=0.5233582659256348)\n",
      "CH:\n",
      "Ttest_relResult(statistic=-0.6381807181533017, pvalue=0.5235629899907343)\n",
      "NO:\n",
      "Ttest_relResult(statistic=4.247265501657781, pvalue=2.461690621787065e-05)\n",
      "CZ:\n",
      "Ttest_relResult(statistic=-1.2928814445749852, pvalue=0.19659000204950752)\n",
      "DE:\n",
      "Ttest_relResult(statistic=-1.144805749801318, pvalue=0.2746101293755968)\n"
     ]
    }
   ],
   "source": [
    "ttests(countries, 'happy')"
   ]
  },
  {
   "cell_type": "code",
   "execution_count": 62,
   "metadata": {},
   "outputs": [],
   "source": [
    "from scipy.stats import wilcoxon\n",
    "\n",
    "def wilcoxons(countries, col):\n",
    "    \n",
    "    for country in countries:\n",
    "        country = country.reset_index(drop=True)\n",
    "        print(country['cntry'][0] +':')\n",
    "        print(wilcoxon(x = country.loc[country['year'] == 6, col],\n",
    "                       y = country.loc[country['year'] == 7, col]))"
   ]
  },
  {
   "cell_type": "code",
   "execution_count": 63,
   "metadata": {},
   "outputs": [
    {
     "name": "stdout",
     "output_type": "stream",
     "text": [
      "ES:\n",
      "WilcoxonResult(statistic=190064.5, pvalue=0.1573993272703731)\n",
      "SE:\n",
      "WilcoxonResult(statistic=103562.0, pvalue=0.5895941229841813)\n",
      "CH:\n",
      "WilcoxonResult(statistic=75726.5, pvalue=0.7575607435639675)\n",
      "NO:\n",
      "WilcoxonResult(statistic=60547.0, pvalue=1.4306917852645772e-05)\n",
      "CZ:\n",
      "WilcoxonResult(statistic=55932.0, pvalue=0.22849644123659796)\n",
      "DE:\n",
      "WilcoxonResult(statistic=16.0, pvalue=0.2365019314807173)\n"
     ]
    }
   ],
   "source": [
    "wilcoxons(countries, 'happy')"
   ]
  },
  {
   "cell_type": "markdown",
   "metadata": {},
   "source": [
    "#### Question 3 - Who reported watching more TV in 2012, men or women?"
   ]
  },
  {
   "cell_type": "code",
   "execution_count": 64,
   "metadata": {},
   "outputs": [],
   "source": [
    "# Isolating the groups in question:\n",
    "\n",
    "male = df.loc[(df['year'] == 6)&(df['gndr'] == 1)]\n",
    "female = df.loc[(df['year'] == 6)&(df['gndr'] == 2)]"
   ]
  },
  {
   "cell_type": "code",
   "execution_count": 70,
   "metadata": {},
   "outputs": [
    {
     "data": {
      "image/png": "[encoded data removed]",
      "text/plain": [
       "<Figure size 432x288 with 1 Axes>"
      ]
     },
     "metadata": {
      "needs_background": "light"
     },
     "output_type": "display_data"
    }
   ],
   "source": [
    "plt.hist(male['tvtot'], color = 'darkblue', alpha=.75, bins=8)\n",
    "plt.hist(female['tvtot'], color = 'plum', alpha=.75, bins=8)\n",
    "plt.xlabel('Amount of TV Watched')\n",
    "plt.ylabel('Number of Respondents')\n",
    "plt.show()"
   ]
  },
  {
   "cell_type": "code",
   "execution_count": 71,
   "metadata": {},
   "outputs": [],
   "source": [
    "from scipy.stats import ttest_ind\n",
    "\n",
    "results_3 = ttest_ind(male['tvtot'], \n",
    "                      female['tvtot'])"
   ]
  },
  {
   "cell_type": "code",
   "execution_count": 72,
   "metadata": {},
   "outputs": [
    {
     "name": "stdout",
     "output_type": "stream",
     "text": [
      "The T-Statistic is: -0.7323552192640558.\n",
      "The P-Value is: 0.4639939646110154\n"
     ]
    }
   ],
   "source": [
    "print(\"The T-Statistic is: {}.\\nThe P-Value is: {}\".format(results_3.statistic, \n",
    "                                                            results_3.pvalue))"
   ]
  },
  {
   "cell_type": "markdown",
   "metadata": {},
   "source": [
    "The P-value is way off, so you cannot claim a significant difference between the two groups."
   ]
  },
  {
   "cell_type": "markdown",
   "metadata": {},
   "source": [
    "#### Question 4 - Who was more likely to believe people were fair in 2012, people living with a partner or people living alone?"
   ]
  },
  {
   "cell_type": "code",
   "execution_count": 73,
   "metadata": {},
   "outputs": [],
   "source": [
    "# Isolating the groups in question:\n",
    "\n",
    "couple = df.loc[(df['year'] == 6)&(df['partner'] == 1)]\n",
    "alone = df.loc[(df['year'] == 6)&(df['partner'] == 2)]"
   ]
  },
  {
   "cell_type": "code",
   "execution_count": 74,
   "metadata": {},
   "outputs": [
    {
     "data": {
      "image/png": "[encoded data removed]",
      "text/plain": [
       "<Figure size 432x288 with 1 Axes>"
      ]
     },
     "metadata": {
      "needs_background": "light"
     },
     "output_type": "display_data"
    }
   ],
   "source": [
    "plt.hist(couple['pplfair'], color = 'darkblue', alpha=.75)\n",
    "plt.hist(alone['pplfair'], color = 'plum', alpha=.75)\n",
    "plt.xlabel('Scale of Responses')\n",
    "plt.ylabel('Number of Respondents')\n",
    "plt.show()"
   ]
  },
  {
   "cell_type": "code",
   "execution_count": 76,
   "metadata": {},
   "outputs": [
    {
     "data": {
      "text/plain": [
       "count    2542.000000\n",
       "mean        6.074351\n",
       "std         2.102916\n",
       "min         0.000000\n",
       "25%         5.000000\n",
       "50%         7.000000\n",
       "75%         8.000000\n",
       "max        10.000000\n",
       "Name: pplfair, dtype: float64"
      ]
     },
     "execution_count": 76,
     "metadata": {},
     "output_type": "execute_result"
    }
   ],
   "source": [
    "couple['pplfair'].describe()"
   ]
  },
  {
   "cell_type": "code",
   "execution_count": 75,
   "metadata": {},
   "outputs": [
    {
     "data": {
      "text/plain": [
       "count    1529.000000\n",
       "mean        5.865925\n",
       "std         2.138453\n",
       "min         0.000000\n",
       "25%         5.000000\n",
       "50%         6.000000\n",
       "75%         7.000000\n",
       "max        10.000000\n",
       "Name: pplfair, dtype: float64"
      ]
     },
     "execution_count": 75,
     "metadata": {},
     "output_type": "execute_result"
    }
   ],
   "source": [
    "alone['pplfair'].describe()"
   ]
  },
  {
   "cell_type": "code",
   "execution_count": 77,
   "metadata": {},
   "outputs": [
    {
     "name": "stdout",
     "output_type": "stream",
     "text": [
      "The T-Statistic is: 3.0430439318464235.\n",
      "The P-Value is: 0.002356936676939248\n"
     ]
    }
   ],
   "source": [
    "results = ttest_ind(couple['pplfair'], \n",
    "                    alone['pplfair'])\n",
    "\n",
    "print(\"The T-Statistic is: {}.\\nThe P-Value is: {}\".format(results.statistic, \n",
    "                                                           results.pvalue))"
   ]
  },
  {
   "cell_type": "markdown",
   "metadata": {},
   "source": [
    "While the P-Value here keeps the hypothesis in play, then key thing here is the imbalance between the two sets. There were far more respondents who were couples as opposed to single. This could end up being significant if put into a production environment."
   ]
  },
  {
   "cell_type": "markdown",
   "metadata": {},
   "source": [
    "#### Question 5: Pick three or four of the countries in the sample and compare how often people met socially in 2014. Are there differences, and if so, which countries stand out?"
   ]
  },
  {
   "cell_type": "code",
   "execution_count": 98,
   "metadata": {},
   "outputs": [
    {
     "data": {
      "image/png": "[encoded data removed]",
      "text/plain": [
       "<Figure size 864x576 with 4 Axes>"
      ]
     },
     "metadata": {
      "needs_background": "light"
     },
     "output_type": "display_data"
    }
   ],
   "source": [
    "\n",
    "fig, ((ax1, ax2), (ax3, ax4)) = plt.subplots(2, 2, figsize = (12, 8), sharey = True, sharex = True)\n",
    "\n",
    "ax1.hist(sweden.loc[sweden['year'] == 7, 'sclmeet'], color = 'b', bins=7)\n",
    "ax1.set_title('Sweden')\n",
    "\n",
    "ax2.hist(norway.loc[norway['year'] == 7, 'sclmeet'], color = 'g', bins=7)\n",
    "ax2.set_title('Norway')\n",
    "\n",
    "ax3.hist(spain.loc[spain['year'] == 7, 'sclmeet'], color = 'c', bins=7)\n",
    "ax3.set_title('Spain')\n",
    "\n",
    "ax4.hist(swiss.loc[swiss['year'] == 7, 'sclmeet'], color = 'm', bins=7)\n",
    "ax4.set_title('Switzerland')\n",
    "\n",
    "plt.show()"
   ]
  },
  {
   "cell_type": "code",
   "execution_count": 85,
   "metadata": {},
   "outputs": [
    {
     "data": {
      "image/png": "[encoded data removed]",
      "text/plain": [
       "<Figure size 432x288 with 1 Axes>"
      ]
     },
     "metadata": {
      "needs_background": "light"
     },
     "output_type": "display_data"
    }
   ],
   "source": [
    "hist_kw = {'alpha':.75, 'bins':7}\n",
    "plt.hist(sweden.loc[sweden['year'] == 7, 'sclmeet'], color = 'b', **hist_kw)\n",
    "plt.hist(norway.loc[norway['year'] == 7, 'sclmeet'], color = 'g', **hist_kw)\n",
    "plt.hist(spain.loc[spain['year'] == 7, 'sclmeet'], color = 'c', **hist_kw)\n",
    "plt.hist(swiss.loc[swiss['year'] == 7, 'sclmeet'], color = 'm', **hist_kw)\n",
    "plt.xlabel('Scale of Responses')\n",
    "plt.ylabel('Number of Respondents')\n",
    "plt.show()"
   ]
  },
  {
   "cell_type": "code",
   "execution_count": 90,
   "metadata": {},
   "outputs": [
    {
     "name": "stdout",
     "output_type": "stream",
     "text": [
      "\n",
      "SE:\n",
      "count    827.000000\n",
      "mean       5.448609\n",
      "std        1.371875\n",
      "min        2.000000\n",
      "25%        4.000000\n",
      "50%        6.000000\n",
      "75%        7.000000\n",
      "max        7.000000\n",
      "Name: sclmeet, dtype: float64\n",
      "\n",
      "NO:\n",
      "count    689.000000\n",
      "mean       5.314949\n",
      "std        1.346106\n",
      "min        1.000000\n",
      "25%        4.000000\n",
      "50%        6.000000\n",
      "75%        6.000000\n",
      "max        7.000000\n",
      "Name: sclmeet, dtype: float64\n",
      "\n",
      "ES:\n",
      "count    1085.000000\n",
      "mean        5.273733\n",
      "std         1.427104\n",
      "min         1.000000\n",
      "25%         4.000000\n",
      "50%         6.000000\n",
      "75%         6.000000\n",
      "max         7.000000\n",
      "Name: sclmeet, dtype: float64\n",
      "\n",
      "CH:\n",
      "count    707.000000\n",
      "mean       5.161245\n",
      "std        1.308946\n",
      "min        1.000000\n",
      "25%        4.000000\n",
      "50%        6.000000\n",
      "75%        6.000000\n",
      "max        7.000000\n",
      "Name: sclmeet, dtype: float64\n"
     ]
    }
   ],
   "source": [
    "countries = [sweden, norway, spain, swiss]\n",
    "\n",
    "for country in countries:\n",
    "    country = country.reset_index(drop=True)\n",
    "    print('\\n'+country['cntry'][0] +':')\n",
    "    print(country.loc[country['year'] == 7, 'sclmeet'].describe())"
   ]
  },
  {
   "cell_type": "code",
   "execution_count": 94,
   "metadata": {},
   "outputs": [
    {
     "name": "stdout",
     "output_type": "stream",
     "text": [
      "The Statistic is: 5.802912227985507.\n",
      "The P-Value is: 0.0005943173486419015\n"
     ]
    }
   ],
   "source": [
    "from scipy.stats import f_oneway\n",
    "\n",
    "results = f_oneway(sweden.loc[sweden['year'] == 7, 'sclmeet'], \n",
    "                   norway.loc[norway['year'] == 7, 'sclmeet'], \n",
    "                   spain.loc[spain['year'] == 7, 'sclmeet'],\n",
    "                   swiss.loc[swiss['year'] == 7, 'sclmeet'])\n",
    "\n",
    "print(\"The Statistic is: {}.\\nThe P-Value is: {}\".format(results.statistic, \n",
    "                                                           results.pvalue))"
   ]
  },
  {
   "cell_type": "markdown",
   "metadata": {},
   "source": [
    "We use ANOVA here because there is more than two groups. Again, the class imbalance here could be a problem. Yhe main value we are looking at is the P-Value, which comes out more than low enough to hint at something statistically significant. From the graphs, along with the ANOVA test, we can reasonably presume that the Swedes go out more than the others."
   ]
  },
  {
   "cell_type": "markdown",
   "metadata": {},
   "source": [
    "#### Question 6: Pick three or four of the countries in the sample and compare how often people took part in social activities, relative to others their age, in 2014. Are there differences, and if so, which countries stand out?"
   ]
  },
  {
   "cell_type": "code",
   "execution_count": 95,
   "metadata": {},
   "outputs": [],
   "source": [
    "swiss_14 = swiss.loc[(swiss['year'] == 7)]\n",
    "norway_14 = norway.loc[norway['year'] == 7]\n",
    "spain_14 = spain.loc[spain['year'] == 7]\n",
    "sweden_14 = sweden.loc[sweden['year'] == 7]"
   ]
  },
  {
   "cell_type": "code",
   "execution_count": 102,
   "metadata": {},
   "outputs": [
    {
     "data": {
      "image/png": "[encoded data removed]",
      "text/plain": [
       "<Figure size 1008x1152 with 8 Axes>"
      ]
     },
     "metadata": {
      "needs_background": "light"
     },
     "output_type": "display_data"
    }
   ],
   "source": [
    "fig, ((ax1, ax2), (ax3, ax4), (ax5, ax6), (ax7, ax8)) = plt.subplots(4, 2, figsize=(14, 16), sharey = True)\n",
    "\n",
    "ax1.set_title('Switzerland')\n",
    "ax1.plot(swiss_14.groupby('agea')['sclact'].agg('count'))\n",
    "ax2.plot(swiss_14.groupby('sclact').agg({'agea': 'mean'}))\n",
    "\n",
    "ax3.set_title('Sweden')\n",
    "ax3.plot(sweden_14.groupby('agea')['sclact'].agg('count'))\n",
    "ax4.plot(sweden_14.groupby('sclact').agg({'agea': 'mean'}))\n",
    "\n",
    "ax5.set_title('Norway')\n",
    "ax5.plot(norway_14.groupby('agea')['sclact'].agg('count'))\n",
    "ax6.plot(norway_14.groupby('sclact').agg({'agea': 'mean'}))\n",
    "\n",
    "ax7.set_title('Spain')\n",
    "ax7.plot(spain_14.groupby('agea')['sclact'].agg('count'))\n",
    "ax8.plot(spain_14.groupby('sclact').agg({'agea': 'mean'}))\n",
    "\n",
    "plt.show()"
   ]
  },
  {
   "cell_type": "code",
   "execution_count": 107,
   "metadata": {
    "scrolled": false
   },
   "outputs": [
    {
     "name": "stdout",
     "output_type": "stream",
     "text": [
      "\n",
      "SE:\n",
      "      count      mean       std  min   25%  50%   75%  max\n",
      "agea                                                      \n",
      "95.0    1.0  4.000000       NaN  4.0  4.00  4.0  4.00  4.0\n",
      "86.0    2.0  4.000000  1.414214  3.0  3.50  4.0  4.50  5.0\n",
      "74.0   13.0  3.461538  0.967418  2.0  3.00  3.0  4.00  5.0\n",
      "76.0   10.0  3.300000  0.483046  3.0  3.00  3.0  3.75  4.0\n",
      "31.0   13.0  3.230769  0.599145  2.0  3.00  3.0  4.00  4.0\n",
      "30.0    6.0  3.166667  0.752773  2.0  3.00  3.0  3.75  4.0\n",
      "17.0   19.0  3.157895  0.834210  1.0  3.00  3.0  4.00  4.0\n",
      "73.0   16.0  3.125000  0.619139  2.0  3.00  3.0  3.25  4.0\n",
      "35.0    9.0  3.111111  1.054093  2.0  2.00  3.0  4.00  5.0\n",
      "40.0    9.0  3.111111  0.600925  2.0  3.00  3.0  3.00  4.0\n",
      "19.0   10.0  3.100000  0.567646  2.0  3.00  3.0  3.00  4.0\n",
      "33.0   10.0  3.100000  0.994429  1.0  3.00  3.0  4.00  4.0\n",
      "34.0   11.0  3.090909  1.136182  1.0  2.50  3.0  4.00  5.0\n",
      "69.0   22.0  3.090909  0.750180  2.0  3.00  3.0  3.00  5.0\n",
      "29.0   13.0  3.076923  0.862316  2.0  2.00  3.0  4.00  4.0\n",
      "49.0   15.0  3.066667  1.032796  1.0  2.50  3.0  4.00  5.0\n",
      "71.0   16.0  3.062500  1.236595  1.0  2.75  3.0  3.25  5.0\n",
      "63.0   17.0  3.058824  0.826936  2.0  2.00  3.0  4.00  4.0\n",
      "25.0   17.0  3.058824  0.555719  2.0  3.00  3.0  3.00  4.0\n",
      "54.0   16.0  3.000000  0.730297  2.0  2.75  3.0  3.25  4.0\n",
      "\n",
      "NO:\n",
      "      count      mean       std  min   25%  50%   75%  max\n",
      "agea                                                      \n",
      "79.0    1.0  4.000000       NaN  4.0  4.00  4.0  4.00  4.0\n",
      "86.0    2.0  3.500000  0.707107  3.0  3.25  3.5  3.75  4.0\n",
      "83.0    2.0  3.500000  2.121320  2.0  2.75  3.5  4.25  5.0\n",
      "80.0    3.0  3.333333  1.154701  2.0  3.00  4.0  4.00  4.0\n",
      "17.0   16.0  3.312500  1.078193  1.0  3.00  3.0  4.00  5.0\n",
      "57.0    7.0  3.285714  0.487950  3.0  3.00  3.0  3.50  4.0\n",
      "18.0   15.0  3.266667  0.961150  2.0  3.00  3.0  4.00  5.0\n",
      "69.0   10.0  3.200000  1.229273  1.0  2.25  3.5  4.00  5.0\n",
      "23.0   12.0  3.166667  0.834847  2.0  3.00  3.0  3.25  5.0\n",
      "36.0    7.0  3.142857  1.214986  2.0  2.00  3.0  4.00  5.0\n",
      "73.0    7.0  3.142857  0.377964  3.0  3.00  3.0  3.00  4.0\n",
      "25.0    7.0  3.142857  1.069045  1.0  3.00  3.0  4.00  4.0\n",
      "74.0    8.0  3.125000  1.246423  1.0  2.75  3.0  4.00  5.0\n",
      "26.0    9.0  3.111111  0.927961  2.0  3.00  3.0  3.00  5.0\n",
      "63.0   13.0  3.076923  0.862316  2.0  3.00  3.0  3.00  5.0\n",
      "81.0    3.0  3.000000  1.000000  2.0  2.50  3.0  3.50  4.0\n",
      "41.0   10.0  3.000000  1.054093  2.0  2.00  3.0  3.75  5.0\n",
      "40.0   13.0  3.000000  0.912871  2.0  2.00  3.0  3.00  5.0\n",
      "85.0    1.0  3.000000       NaN  3.0  3.00  3.0  3.00  3.0\n",
      "48.0   14.0  3.000000  0.960769  1.0  3.00  3.0  3.00  5.0\n",
      "\n",
      "ES:\n",
      "       count      mean       std  min  25%  50%   75%  max\n",
      "agea                                                      \n",
      "28.0    13.0  3.692308  1.031553  2.0  3.0  3.0  5.00  5.0\n",
      "27.0    14.0  3.142857  1.027105  1.0  3.0  3.0  4.00  5.0\n",
      "65.0    13.0  3.076923  1.187542  1.0  3.0  3.0  4.00  5.0\n",
      "30.0    14.0  3.071429  0.828742  2.0  3.0  3.0  3.00  5.0\n",
      "101.0    1.0  3.000000       NaN  3.0  3.0  3.0  3.00  3.0\n",
      "93.0     1.0  3.000000       NaN  3.0  3.0  3.0  3.00  3.0\n",
      "60.0    17.0  2.941176  1.088037  1.0  3.0  3.0  4.00  4.0\n",
      "48.0    19.0  2.894737  1.100239  2.0  2.0  3.0  3.00  5.0\n",
      "17.0    19.0  2.894737  0.875261  1.0  3.0  3.0  3.00  4.0\n",
      "56.0    21.0  2.857143  0.853564  1.0  2.0  3.0  3.00  4.0\n",
      "74.0     7.0  2.857143  1.214986  1.0  2.5  3.0  3.00  5.0\n",
      "45.0    28.0  2.857143  0.890871  1.0  2.0  3.0  3.25  4.0\n",
      "32.0    20.0  2.850000  0.875094  1.0  2.0  3.0  3.25  4.0\n",
      "41.0    17.0  2.823529  0.808957  2.0  2.0  3.0  3.00  4.0\n",
      "19.0    11.0  2.818182  0.603023  2.0  2.5  3.0  3.00  4.0\n",
      "23.0    16.0  2.812500  0.981071  1.0  2.0  3.0  3.00  5.0\n",
      "54.0    23.0  2.782609  0.795243  1.0  2.0  3.0  3.00  4.0\n",
      "39.0    22.0  2.772727  0.611930  1.0  3.0  3.0  3.00  4.0\n",
      "51.0    22.0  2.772727  0.922307  1.0  2.0  3.0  3.00  5.0\n",
      "62.0    17.0  2.764706  1.091410  1.0  2.0  3.0  4.00  4.0\n",
      "\n",
      "CH:\n",
      "      count      mean       std  min   25%  50%   75%  max\n",
      "agea                                                      \n",
      "89.0    3.0  4.000000  1.000000  3.0  3.50  4.0  4.50  5.0\n",
      "24.0    3.0  4.000000  1.000000  3.0  3.50  4.0  4.50  5.0\n",
      "71.0   10.0  3.400000  0.843274  2.0  3.00  3.0  4.00  5.0\n",
      "30.0    9.0  3.333333  0.707107  3.0  3.00  3.0  3.00  5.0\n",
      "80.0    3.0  3.333333  1.527525  2.0  2.50  3.0  4.00  5.0\n",
      "43.0   10.0  3.300000  0.483046  3.0  3.00  3.0  3.75  4.0\n",
      "22.0   10.0  3.300000  0.948683  2.0  3.00  3.0  4.00  5.0\n",
      "16.0   11.0  3.272727  1.103713  2.0  2.50  3.0  4.00  5.0\n",
      "79.0    4.0  3.250000  1.258306  2.0  2.75  3.0  3.50  5.0\n",
      "47.0   10.0  3.200000  0.918937  2.0  3.00  3.0  3.75  5.0\n",
      "59.0    7.0  3.142857  1.069045  1.0  3.00  3.0  4.00  4.0\n",
      "55.0    8.0  3.125000  0.991031  2.0  2.75  3.0  3.25  5.0\n",
      "26.0    2.0  3.000000  0.000000  3.0  3.00  3.0  3.00  3.0\n",
      "45.0    9.0  3.000000  0.500000  2.0  3.00  3.0  3.00  4.0\n",
      "75.0   10.0  3.000000  0.942809  2.0  2.00  3.0  4.00  4.0\n",
      "86.0    2.0  3.000000  1.414214  2.0  2.50  3.0  3.50  4.0\n",
      "50.0   12.0  3.000000  0.953463  1.0  2.75  3.0  4.00  4.0\n",
      "17.0   11.0  3.000000  0.894427  2.0  2.00  3.0  4.00  4.0\n",
      "74.0    4.0  3.000000  0.000000  3.0  3.00  3.0  3.00  3.0\n",
      "18.0   21.0  2.952381  0.920662  2.0  2.00  3.0  3.00  5.0\n"
     ]
    }
   ],
   "source": [
    "countries = [sweden_14, norway_14, spain_14, swiss_14]\n",
    "\n",
    "for country in countries:\n",
    "    country = country.reset_index(drop=True)\n",
    "    print('\\n'+country['cntry'][0] +':')\n",
    "    print(country.groupby('agea')['sclact'].describe().sort_values(by='mean', ascending=False).head(20))"
   ]
  },
  {
   "cell_type": "code",
   "execution_count": 103,
   "metadata": {},
   "outputs": [
    {
     "name": "stdout",
     "output_type": "stream",
     "text": [
      "The Statistic is: [13.8849047   2.61553355].\n",
      "The P-Value is: [5.37719348e-09 4.94704076e-02]\n"
     ]
    }
   ],
   "source": [
    "results = f_oneway(swiss_14[['sclact', 'agea']],\n",
    "                   sweden_14[['sclact', 'agea']],\n",
    "                   spain_14[['sclact', 'agea']],\n",
    "                   norway_14[['sclact', 'agea']])\n",
    "\n",
    "print(\"The Statistic is: {}.\\nThe P-Value is: {}\".format(results.statistic, \n",
    "                                                           results.pvalue))"
   ]
  },
  {
   "cell_type": "code",
   "execution_count": null,
   "metadata": {},
   "outputs": [],
   "source": []
  }
 ],
 "metadata": {
  "kernelspec": {
   "display_name": "Python 3",
   "language": "python",
   "name": "python3"
  },
  "language_info": {
   "codemirror_mode": {
    "name": "ipython",
    "version": 3
   },
   "file_extension": ".py",
   "mimetype": "text/x-python",
   "name": "python",
   "nbconvert_exporter": "python",
   "pygments_lexer": "ipython3",
   "version": "3.7.2"
  }
 },
 "nbformat": 4,
 "nbformat_minor": 2
}
