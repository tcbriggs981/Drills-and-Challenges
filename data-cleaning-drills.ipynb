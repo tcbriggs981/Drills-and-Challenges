{
 "cells": [
  {
   "cell_type": "code",
   "execution_count": 49,
   "metadata": {},
   "outputs": [],
   "source": [
    "import pandas as pd\n",
    "import numpy as np"
   ]
  },
  {
   "cell_type": "code",
   "execution_count": 50,
   "metadata": {},
   "outputs": [
    {
     "data": {
      "text/plain": [
       "Publisher\n",
       "Elsevier                                                   387\n",
       "Public Library of Science                                  278\n",
       "Wiley                                                      136\n",
       "Springer                                                    81\n",
       "Oxford University Press                                     77\n",
       "OUP                                                         56\n",
       "Wiley-Blackwell                                             56\n",
       "ASBMB                                                       46\n",
       "Nature Publishing Group                                     45\n",
       "BioMed Central                                              40\n",
       "BMC                                                         26\n",
       "Nature                                                      24\n",
       "Frontiers                                                   23\n",
       "BMJ                                                         23\n",
       "Royal Society                                               22\n",
       "Cambridge University Press                                  20\n",
       "Company of Biologists                                       18\n",
       "American Society for Biochemistry and Molecular Biology     18\n",
       "Dartmouth Journal Services                                  17\n",
       "Oxford Journals                                             16\n",
       "dtype: int64"
      ]
     },
     "execution_count": 50,
     "metadata": {},
     "output_type": "execute_result"
    }
   ],
   "source": [
    "df = pd.read_csv('datasets/WELLCOME_APCspend2013_forThinkful.csv', encoding = \"ISO-8859-1\")\n",
    "\n",
    "df.groupby('Publisher').size().sort_values(ascending=False).head(20)"
   ]
  },
  {
   "cell_type": "code",
   "execution_count": 51,
   "metadata": {
    "scrolled": false
   },
   "outputs": [
    {
     "data": {
      "text/plain": [
       "Publisher\n",
       "Elsevier                                                   408\n",
       "Public Library of Science                                  307\n",
       "Wiley                                                      270\n",
       "Oxford University Press                                    167\n",
       "Springer Verlag                                             96\n",
       "BioMed Central                                              96\n",
       "Nature                                                      81\n",
       "American Society for Biochemistry and Molecular Biology     73\n",
       "BMJ                                                         58\n",
       "The Royal Society                                           40\n",
       "National Academy of Sciences                                36\n",
       "American Chemical Society                                   34\n",
       "Cambridge University Press                                  33\n",
       "Frontiers                                                   32\n",
       "Company of Biologists                                       27\n",
       "American Society for Microbiology                           25\n",
       "Dartmouth Journal Services                                  22\n",
       "Portland Press                                              22\n",
       "BioScientifica                                              21\n",
       "Sage                                                        21\n",
       "dtype: int64"
      ]
     },
     "execution_count": 51,
     "metadata": {},
     "output_type": "execute_result"
    }
   ],
   "source": [
    "df['Publisher'].str.strip()\n",
    "df['Publisher'].str.lower()\n",
    "df['Publisher'].str.capitalize()\n",
    "\n",
    "pub = df['Publisher']\n",
    "wk = pub.str.contains('Wolters Kluwer')\n",
    "wiley = pub.str.contains('Wiley|Blackwell|WILEY')\n",
    "acs = pub.str.contains('ACS|American Chemical Society|AMERICAN CHEMICAL SOCIETY')\n",
    "asbmb = pub.str.contains('ASBMB|Biochemistry and Molecular|AMBSB')\n",
    "asm = pub.str.contains('ASM|American Society for Microbiology|American Society of Microbiology')\n",
    "ash = pub.str.contains('American Society of H')\n",
    "end = pub.str.contains(' End| END')\n",
    "sv = pub.str.contains('Springer|Verlag|VERLAG')\n",
    "ip = pub.str.contains('Investigative Pathology')\n",
    "bmj = pub.str.contains('BMJ|British Medical Journal|bmj')\n",
    "tf = pub.str.contains('Taylor|Francis|T&F')\n",
    "aps = pub.str.contains('American Physiological Society|APS')\n",
    "bc = pub.str.contains('BioMed |Biomed |BMC')\n",
    "cen = pub.str.contains('CENVEO|cenveo|Cenveo')\n",
    "nat = pub.str.contains('Nature|nature|NATURE|NPG')\n",
    "ox = pub.str.contains('Oxford|OUP|OXFORD')\n",
    "mit = pub.str.contains('MIT')\n",
    "imp = pub.str.contains('Impact')\n",
    "cob = pub.str.contains('OF BIOLOGISTS| of Biologist| Of Biologist|of Biol')\n",
    "inf = pub.str.contains('Informa|Informa')\n",
    "els = pub.str.contains('Else|ELSE')\n",
    "terb = pub.str.contains('Union Against T|Union Against t|UATBLD')\n",
    "pls = pub.str.contains('Library of Sci|PLoS|PLOS|Plos')\n",
    "pp = pub.str.contains('Portland|PORTLAND')\n",
    "roy = pub.str.contains('Roya|roya|RSC')\n",
    "cam = pub.str.contains('Cambridge|e press|CUP')\n",
    "nas = pub.str.contains('National Academy of Sciences|NAS')\n",
    "sage = pub.str.contains('Sage|SAGE')\n",
    "cad = pub.str.contains('Cadmus|Camdus|CADMUS')\n",
    "dar = pub.str.contains('Dar')\n",
    "cs = pub.str.contains('Cold Spring|CSHLP')\n",
    "faseb = pub.str.contains('FASEB| Experimental Biology')\n",
    "fr = pub.str.contains('Frontiers')\n",
    "hw = pub.str.contains('Hindawi')\n",
    "bios = pub.str.contains('Bios|BioS')\n",
    "cry = pub.str.contains(' Crystall')\n",
    "sh = pub.str.contains('Sheridan')\n",
    "son = pub.str.contains(' Neuroscience|NEURO ')\n",
    "sogm = pub.str.contains('al Micr|Microbiology Society')\n",
    "ben = pub.str.contains('Benth')\n",
    "leu = pub.str.contains('Leukocyte')\n",
    "mjc = pub.str.contains('JOVE|JoVE|Visualized Experiments')\n",
    "iop = pub.str.contains('IOP| of Physics')\n",
    "fut = pub.str.contains('Future')\n",
    "bs = pub.str.contains('ophysical ')\n",
    "pubmed = pub.str.contains('PubMed')\n",
    "apsy = pub.str.contains('American Psychiatric ')\n",
    "apa = pub.str.contains('American Psychological')\n",
    "mal = pub.str.contains('Liebert|LIEBERT')\n",
    "kar = pub.str.contains('Karger|KARGER')\n",
    "\n",
    "\n",
    "df['Publisher'] = np.where(wk, 'Wolters Kluwer',\n",
    "                    np.where(wiley, 'Wiley',\n",
    "                    np.where(acs, 'American Chemical Society',\n",
    "                    np.where(asbmb, 'American Society for Biochemistry and Molecular Biology',\n",
    "                    np.where(asm, 'American Society for Microbiology',\n",
    "                    np.where(ash, 'American Society of Hematology',\n",
    "                    np.where(end, 'The Endocrine Society',\n",
    "                    np.where(sv, 'Springer Verlag',\n",
    "                    np.where(bmj, 'BMJ',\n",
    "                    np.where(tf, 'Taylor and Francis',\n",
    "                    np.where(bc, 'BioMed Central',\n",
    "                    np.where(cen, 'CENVEO',\n",
    "                    np.where(nat, 'Nature',\n",
    "                    np.where(ox, 'Oxford University Press',\n",
    "                    np.where(mit, 'MIT Press',\n",
    "                    np.where(imp, 'Impact Journals',\n",
    "                    np.where(cob, 'Company of Biologists',\n",
    "                    np.where(inf, 'Informa',\n",
    "                    np.where(els, 'Elsevier',\n",
    "                    np.where(terb, 'International Union Against Tuberculosis and Lung Disease',\n",
    "                    np.where(pls, 'Public Library of Science',\n",
    "                    np.where(pp, 'Portland Press',\n",
    "                    np.where(roy, 'The Royal Society',\n",
    "                    np.where(cam, 'Cambridge University Press',\n",
    "                    np.where(aps, 'American Physiological Society',\n",
    "                    np.where(nas, 'National Academy of Sciences',\n",
    "                    np.where(sage, 'Sage',\n",
    "                    np.where(cad, 'Cadmus Journal Services',\n",
    "                    np.where(dar, 'Dartmouth Journal Services',\n",
    "                    np.where(cs, 'Cold Spring Harbor Laboratory Press',\n",
    "                    np.where(faseb, 'Federation of American Societies for Experimental Biology',\n",
    "                    np.where(fr, 'Frontiers',\n",
    "                    np.where(hw, 'Hindawi Publishing Corporation',\n",
    "                    np.where(bios, 'BioScientifica',\n",
    "                    np.where(cry, 'International Union of Crystallography',\n",
    "                    np.where(sh, 'Sheridan Press',\n",
    "                    np.where(son, 'Society for Neuroscience',\n",
    "                    np.where(sogm, 'Microbiology Society',\n",
    "                    np.where(ben, 'Bentham Science Publishers',\n",
    "                    np.where(leu, 'Society for Leukocyte Biology',\n",
    "                    np.where(mjc, 'The Journal of Visualized Experiments',\n",
    "                    np.where(iop, 'Institute of Physics',\n",
    "                    np.where(fut, 'Future Science Group',\n",
    "                    np.where(bs, 'Biophysical Society',\n",
    "                    np.where(pubmed, 'PubMed',\n",
    "                    np.where(apsy, 'American Psychiatric Publishing',\n",
    "                    np.where(apa, 'American Psychological Association',\n",
    "                    np.where(mal, 'Mary Ann Liebert',\n",
    "                    np.where(kar, 'Karger',\n",
    "                    pub.str.replace('-', ' '))))))))))))))))))))))))))))))))))))))))))))))))))\n",
    "\n",
    "df.groupby('Publisher').size().sort_values(ascending=False).head(20)"
   ]
  },
  {
   "cell_type": "code",
   "execution_count": 52,
   "metadata": {},
   "outputs": [],
   "source": [
    "df.rename(columns={\"COST (£) charged to Wellcome (inc VAT when charged)\":\"Cost\"}, inplace=True)\n",
    "\n",
    "df['Cost'] = [x.strip('£') for x in df['Cost']]\n",
    "df['Cost'] = [x.strip('$') for x in df['Cost']]"
   ]
  },
  {
   "cell_type": "code",
   "execution_count": 53,
   "metadata": {
    "scrolled": false
   },
   "outputs": [
    {
     "data": {
      "text/html": [
       "<div>\n",
       "<style scoped>\n",
       "    .dataframe tbody tr th:only-of-type {\n",
       "        vertical-align: middle;\n",
       "    }\n",
       "\n",
       "    .dataframe tbody tr th {\n",
       "        vertical-align: top;\n",
       "    }\n",
       "\n",
       "    .dataframe thead th {\n",
       "        text-align: right;\n",
       "    }\n",
       "</style>\n",
       "<table border=\"1\" class=\"dataframe\">\n",
       "  <thead>\n",
       "    <tr style=\"text-align: right;\">\n",
       "      <th></th>\n",
       "      <th>PMID/PMCID</th>\n",
       "      <th>Publisher</th>\n",
       "      <th>Journal title</th>\n",
       "      <th>Article title</th>\n",
       "      <th>Cost</th>\n",
       "    </tr>\n",
       "  </thead>\n",
       "  <tbody>\n",
       "    <tr>\n",
       "      <th>0</th>\n",
       "      <td>NaN</td>\n",
       "      <td>Cambridge University Press</td>\n",
       "      <td>Psychological Medicine</td>\n",
       "      <td>Reduced parahippocampal cortical thickness in ...</td>\n",
       "      <td>0.00</td>\n",
       "    </tr>\n",
       "    <tr>\n",
       "      <th>1</th>\n",
       "      <td>PMC3679557</td>\n",
       "      <td>American Chemical Society</td>\n",
       "      <td>Biomacromolecules</td>\n",
       "      <td>Structural characterization of a Model Gram-ne...</td>\n",
       "      <td>2381.04</td>\n",
       "    </tr>\n",
       "    <tr>\n",
       "      <th>2</th>\n",
       "      <td>23043264  PMC3506128</td>\n",
       "      <td>American Chemical Society</td>\n",
       "      <td>J Med Chem</td>\n",
       "      <td>Fumaroylamino-4,5-epoxymorphinans and related ...</td>\n",
       "      <td>642.56</td>\n",
       "    </tr>\n",
       "    <tr>\n",
       "      <th>3</th>\n",
       "      <td>23438330 PMC3646402</td>\n",
       "      <td>American Chemical Society</td>\n",
       "      <td>J Med Chem</td>\n",
       "      <td>Orvinols with mixed kappa/mu opioid receptor a...</td>\n",
       "      <td>669.64</td>\n",
       "    </tr>\n",
       "    <tr>\n",
       "      <th>4</th>\n",
       "      <td>23438216 PMC3601604</td>\n",
       "      <td>American Chemical Society</td>\n",
       "      <td>J Org Chem</td>\n",
       "      <td>Regioselective opening of myo-inositol orthoes...</td>\n",
       "      <td>685.88</td>\n",
       "    </tr>\n",
       "  </tbody>\n",
       "</table>\n",
       "</div>"
      ],
      "text/plain": [
       "              PMID/PMCID                   Publisher           Journal title  \\\n",
       "0                    NaN  Cambridge University Press  Psychological Medicine   \n",
       "1             PMC3679557   American Chemical Society       Biomacromolecules   \n",
       "2  23043264  PMC3506128    American Chemical Society              J Med Chem   \n",
       "3    23438330 PMC3646402   American Chemical Society              J Med Chem   \n",
       "4   23438216 PMC3601604    American Chemical Society              J Org Chem   \n",
       "\n",
       "                                       Article title     Cost  \n",
       "0  Reduced parahippocampal cortical thickness in ...     0.00  \n",
       "1  Structural characterization of a Model Gram-ne...  2381.04  \n",
       "2  Fumaroylamino-4,5-epoxymorphinans and related ...   642.56  \n",
       "3  Orvinols with mixed kappa/mu opioid receptor a...   669.64  \n",
       "4  Regioselective opening of myo-inositol orthoes...   685.88  "
      ]
     },
     "execution_count": 53,
     "metadata": {},
     "output_type": "execute_result"
    }
   ],
   "source": [
    "df['Cost'].str.encode('utf-8')\n",
    "\n",
    "df['Cost'] = df['Cost'].astype(float)\n",
    "\n",
    "df.head()"
   ]
  },
  {
   "cell_type": "code",
   "execution_count": 42,
   "metadata": {},
   "outputs": [
    {
     "data": {
      "text/plain": [
       "Publisher\n",
       "MIT Press                                                  500403.925000\n",
       "Sage                                                        96801.333333\n",
       "Cambridge University Press                                  62162.484848\n",
       "Public Library of Science                                   50562.747362\n",
       "Nature                                                      39585.130370\n",
       "Company of Biologists                                       38728.212593\n",
       "Frontiers                                                   32083.269687\n",
       "American Society for Biochemistry and Molecular Biology     28736.210548\n",
       "National Academy of Sciences                                28600.676111\n",
       "Elsevier                                                    26885.735833\n",
       "BioMed Central                                              22142.396875\n",
       "Oxford University Press                                     19775.350240\n",
       "Wiley                                                       17532.888444\n",
       "MacMillan                                                   13200.000000\n",
       "public.service.co.uk                                         6000.000000\n",
       "American Psychological Association                           2905.475000\n",
       "Biochem Journal                                              2853.215000\n",
       "Copyright Clearace Center                                    2775.230000\n",
       "The American Society of Pediatrics                           2645.850000\n",
       "American Association of Immunologists                        2571.540000\n",
       "Name: Cost, dtype: float64"
      ]
     },
     "execution_count": 42,
     "metadata": {},
     "output_type": "execute_result"
    }
   ],
   "source": [
    "df.groupby(['Publisher'])['Cost'].mean().sort_values(ascending=False).head(20)"
   ]
  },
  {
   "cell_type": "code",
   "execution_count": 54,
   "metadata": {
    "scrolled": false
   },
   "outputs": [
    {
     "data": {
      "text/plain": [
       "Publisher\n",
       "MIT Press                                                    500403.925\n",
       "MacMillan                                                     13200.000\n",
       "public.service.co.uk                                           6000.000\n",
       "Nature                                                         3000.000\n",
       "American Psychological Association                             2997.520\n",
       "Biochem Journal                                                2853.215\n",
       "Copyright Clearace Center                                      2775.230\n",
       "The Journal of Visualized Experiments                          2702.200\n",
       "The American Society of Pediatrics                             2645.850\n",
       "American Association of Immunologists                          2571.540\n",
       "International Union Against Tuberculosis and Lung Disease      2513.755\n",
       "LWW                                                            2504.360\n",
       "The Boulevard                                                  2421.960\n",
       "American College of Chest Physicians                           2383.940\n",
       "Cell Press                                                     2379.445\n",
       "Elsevier                                                       2354.785\n",
       "Endocrine Society                                              2351.965\n",
       "American Psychiatric Publishing                                2350.875\n",
       "Research Media Ltd                                             2350.000\n",
       "European Respiratory Society                                   2340.000\n",
       "Name: Cost, dtype: float64"
      ]
     },
     "execution_count": 54,
     "metadata": {},
     "output_type": "execute_result"
    }
   ],
   "source": [
    "df.groupby(['Publisher'])['Cost'].median().sort_values(ascending=False).head(20)"
   ]
  },
  {
   "cell_type": "code",
   "execution_count": 55,
   "metadata": {},
   "outputs": [
    {
     "data": {
      "text/plain": [
       "Publisher\n",
       "MIT Press                                                  706534.130760\n",
       "Sage                                                       300273.014641\n",
       "Cambridge University Press                                 241904.745923\n",
       "Public Library of Science                                  215817.573944\n",
       "Company of Biologists                                      192112.749335\n",
       "Nature                                                     189527.832933\n",
       "Frontiers                                                  176624.641529\n",
       "National Academy of Sciences                               166526.077328\n",
       "American Society for Biochemistry and Molecular Biology    164141.696577\n",
       "Elsevier                                                   154440.193220\n",
       "BioMed Central                                             143384.195559\n",
       "Oxford University Press                                    132975.378101\n",
       "Wiley                                                      121308.114848\n",
       "Biochem Journal                                              1489.470937\n",
       "Dartmouth Journal Services                                   1271.713363\n",
       "Institute of Physics                                          981.495458\n",
       "The Journal of Visualized Experiments                         951.305307\n",
       "Informa                                                       853.774870\n",
       "Ferrata Storti Foundation                                     840.919668\n",
       "American Association of Immunologists                         758.782145\n",
       "Name: Cost, dtype: float64"
      ]
     },
     "execution_count": 55,
     "metadata": {},
     "output_type": "execute_result"
    }
   ],
   "source": [
    "df.groupby(['Publisher'])['Cost'].std().sort_values(ascending=False).head(20)"
   ]
  },
  {
   "cell_type": "code",
   "execution_count": null,
   "metadata": {},
   "outputs": [],
   "source": []
  }
 ],
 "metadata": {
  "kernelspec": {
   "display_name": "Python 3",
   "language": "python",
   "name": "python3"
  },
  "language_info": {
   "codemirror_mode": {
    "name": "ipython",
    "version": 3
   },
   "file_extension": ".py",
   "mimetype": "text/x-python",
   "name": "python",
   "nbconvert_exporter": "python",
   "pygments_lexer": "ipython3",
   "version": "3.7.0"
  }
 },
 "nbformat": 4,
 "nbformat_minor": 2
}
